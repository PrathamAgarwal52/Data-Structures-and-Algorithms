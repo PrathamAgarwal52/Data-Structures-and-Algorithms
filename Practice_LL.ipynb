{
 "cells": [
  {
   "cell_type": "markdown",
   "metadata": {},
   "source": [
    "# Question 1 , 2, 3"
   ]
  },
  {
   "cell_type": "code",
   "execution_count": 141,
   "metadata": {},
   "outputs": [],
   "source": [
    "class node:\n",
    "    def __init__(self,value):\n",
    "        self.data = value\n",
    "        self.next = None"
   ]
  },
  {
   "cell_type": "code",
   "execution_count": 142,
   "metadata": {},
   "outputs": [],
   "source": [
    "class Linked_List:\n",
    "    def __init__(self):\n",
    "        # this will tell the no. of nodes in list\n",
    "        self.n = 0\n",
    "        # empty list\n",
    "        self.head = None\n",
    "    # to find the length of node\n",
    "    def __len__(self):\n",
    "        return self.n\n",
    "    # insert through head\n",
    "    def insert_head(self,value):\n",
    "        new_head = node(value)\n",
    "        new_head.next = self.head\n",
    "        self.head = new_head\n",
    "        self.n = self.n + 1\n",
    "\n",
    "    # printing the Linked List\n",
    "    def __str__(self):\n",
    "        curr = self.head\n",
    "        if curr == None:\n",
    "            return 'ValueError - There are no nodes in this list'\n",
    "        result = ''\n",
    "        while curr != None:\n",
    "            result = result + str(curr.data) + '->'\n",
    "            curr = curr.next\n",
    "        return result[:-2] \n",
    "    # traversing the LL    \n",
    "    def traverse(self):\n",
    "        curr = self.head\n",
    "        if curr == None:\n",
    "            return 'ValueError - There are no nodes in this list'\n",
    "        result = ''\n",
    "        while curr != None:\n",
    "            result = result + str(curr.data) \n",
    "            curr = curr.next\n",
    "        return result \n",
    "    # inserting through tail(append)\n",
    "    def append(self,value):\n",
    "        new_tail = node(value)\n",
    "        if self.head == None:\n",
    "            self.head = new_tail\n",
    "            self.n = self.n + 1\n",
    "            return\n",
    "        \n",
    "        curr = self.head\n",
    "        while curr.next != None:\n",
    "            curr = curr.next\n",
    "        curr.next = new_tail\n",
    "        self.n = self.n + 1\n",
    "\n",
    "    # inserting the value after any given value\n",
    "    def insert_after(self,after,value):\n",
    "        if self.head == None:\n",
    "            return 'ValueError - the list is empty'\n",
    "        curr = self.head\n",
    "        while curr.data != after:\n",
    "            if curr.next == None:\n",
    "                if curr.data != after:\n",
    "                    return 'ValueError - the required value is not there'\n",
    "                break\n",
    "            curr = curr.next\n",
    "            \n",
    "            \n",
    "\n",
    "        new_node = node(value)\n",
    "        new_node.next = curr.next\n",
    "        curr.next = new_node\n",
    "        self.n = self.n + 1\n",
    "\n",
    "    # clearing the whole list\n",
    "    def clear(self):\n",
    "        self.head = None\n",
    "        self.n = 0 \n",
    "\n",
    "    # deleting the head\n",
    "    def delete_head(self):\n",
    "        if self.head == None:\n",
    "            return ' List is already empty'\n",
    "        self.head = self.head.next\n",
    "        self.n = self.n - 1\n",
    "    \n",
    "    # delete at the tail\n",
    "    def pop(self):\n",
    "        if self.head == None:\n",
    "            return ' List is already empty'\n",
    "        \n",
    "        curr = self.head\n",
    "        if curr.next == None:\n",
    "            return self.delete_head()\n",
    "        while curr.next.next != None:\n",
    "            curr = curr.next\n",
    "        curr.next = None\n",
    "        self.n = self.n - 1\n",
    "    \n",
    "    # deleting the element by its value\n",
    "    def remove(self,value):\n",
    "        if self.head == None:\n",
    "            return ' List is already empty'\n",
    "        curr = self.head\n",
    "        if curr.next == None and curr.data == value:\n",
    "            return self.delete_head()\n",
    "            \n",
    "        while curr.next != None:\n",
    "           \n",
    "            if curr.next.data == value:\n",
    "                break\n",
    "            curr = curr.next\n",
    "        if curr.next == None:\n",
    "            return 'ValueError - Value not found'\n",
    "       \n",
    "        else:\n",
    "            curr.next = curr.next.next\n",
    "            self.n = self.n - 1\n",
    "    # lets search the item and give its index\n",
    "    def search(self,item):\n",
    "\n",
    "        if self.head == None:\n",
    "            return ' List is empty'\n",
    "        else:\n",
    "            curr = self.head\n",
    "            pos = 0\n",
    "            while curr != None:\n",
    "                if curr.data == item:\n",
    "                    return pos\n",
    "                curr = curr.next\n",
    "                pos = pos + 1\n",
    "    # deleting the node by index\n",
    "    def delete_by_index(self,index):\n",
    "        if self.head == None:\n",
    "            return ' List is empty'\n",
    "        else:\n",
    "            pos = 0\n",
    "            curr = self.head\n",
    "            while curr != None:\n",
    "                if pos == index:\n",
    "                    self.remove(curr.data)\n",
    "                    break\n",
    "                    \n",
    "                curr = curr.next\n",
    "                pos = pos + 1\n",
    "    # searching by index\n",
    "    def __getitem__(self,index):\n",
    "        if self.head == None:\n",
    "            return ' List is empty'\n",
    "        else:\n",
    "            pos = 0\n",
    "            curr = self.head\n",
    "            while curr != None:\n",
    "                if pos == index:\n",
    "                    return curr.data\n",
    "                curr = curr.next\n",
    "                pos = pos + 1\n",
    "            return IndexError\n",
    "                    \n",
    "    #replace maximum with given no.\n",
    "    def replace_max(self,value):\n",
    "        curr = self.head\n",
    "        max = curr\n",
    "        while curr.next != None:\n",
    "            if max.data < curr.data:\n",
    "                max = curr\n",
    "\n",
    "            curr = curr.next\n",
    "        max.data = value\n",
    "\n",
    "    # summing the odd nodes\n",
    "    def sum_odd_nodes(self):\n",
    "        sum = 0\n",
    "        for i in range(0,self.n ):\n",
    "            if (i % 2) != 0:\n",
    "                sum = sum + self.__getitem__(i)\n",
    "        return sum\n",
    "    # reversing the entire linked list ( in place reversal)\n",
    "    def reverse(self):\n",
    "        curr = self.head\n",
    "        \n",
    "        prev = None\n",
    "       \n",
    "        while curr != None:\n",
    "            next_node = curr.next\n",
    "            curr.next = prev\n",
    "            prev = curr\n",
    "            curr = next_node\n",
    "            \n",
    "        self.head = prev\n",
    "\n",
    "    # method for question 4\n",
    "    def chst(self):\n",
    "        curr = self.head\n",
    "        while curr != None:\n",
    "            if curr.data == '*' or curr.data == '/':\n",
    "                if curr.next.data == '*' or curr.next.data == '/':\n",
    "                    curr.next.next.data = curr.next.next.data.upper()\n",
    "                    \n",
    "                    self.remove(curr.next.data)\n",
    "                    \n",
    "                    \n",
    "                curr.data = ' '\n",
    "            curr = curr.next      \n"
   ]
  },
  {
   "cell_type": "code",
   "execution_count": 143,
   "metadata": {},
   "outputs": [],
   "source": [
    "a = Linked_List()"
   ]
  },
  {
   "cell_type": "code",
   "execution_count": 144,
   "metadata": {},
   "outputs": [],
   "source": [
    "a.insert_head(2)\n",
    "a.insert_head(4)\n",
    "a.insert_head(6)\n",
    "a.insert_head(10)\n",
    "a.insert_head(3)"
   ]
  },
  {
   "cell_type": "code",
   "execution_count": 145,
   "metadata": {},
   "outputs": [
    {
     "name": "stdout",
     "output_type": "stream",
     "text": [
      "3->10->6->4->2\n"
     ]
    }
   ],
   "source": [
    "print(a)"
   ]
  },
  {
   "cell_type": "code",
   "execution_count": 146,
   "metadata": {},
   "outputs": [],
   "source": [
    "a.replace_max(5)"
   ]
  },
  {
   "cell_type": "code",
   "execution_count": 147,
   "metadata": {},
   "outputs": [
    {
     "name": "stdout",
     "output_type": "stream",
     "text": [
      "3->5->6->4->2\n"
     ]
    }
   ],
   "source": [
    "print(a)"
   ]
  },
  {
   "cell_type": "code",
   "execution_count": 148,
   "metadata": {},
   "outputs": [
    {
     "data": {
      "text/plain": [
       "9"
      ]
     },
     "execution_count": 148,
     "metadata": {},
     "output_type": "execute_result"
    }
   ],
   "source": [
    "a.sum_odd_nodes()"
   ]
  },
  {
   "cell_type": "code",
   "execution_count": 149,
   "metadata": {},
   "outputs": [],
   "source": [
    "a.reverse()"
   ]
  },
  {
   "cell_type": "code",
   "execution_count": 150,
   "metadata": {},
   "outputs": [
    {
     "name": "stdout",
     "output_type": "stream",
     "text": [
      "2->4->6->5->3\n"
     ]
    }
   ],
   "source": [
    "print(a)"
   ]
  },
  {
   "cell_type": "code",
   "execution_count": 151,
   "metadata": {},
   "outputs": [],
   "source": [
    "a.clear()"
   ]
  },
  {
   "cell_type": "markdown",
   "metadata": {},
   "source": [
    "# Question 4"
   ]
  },
  {
   "cell_type": "code",
   "execution_count": 152,
   "metadata": {},
   "outputs": [],
   "source": [
    "a.append('T')\n",
    "a.append('h')\n",
    "a.append('e')\n",
    "a.append('/')\n",
    "a.append('*')\n",
    "a.append('s')\n",
    "a.append('k')\n",
    "a.append('y')\n",
    "a.append('*')\n",
    "a.append('i')\n",
    "a.append('s')\n",
    "a.append('/')\n",
    "a.append('/')\n",
    "a.append('b')\n",
    "a.append('l')\n",
    "a.append('u')\n",
    "a.append('e')"
   ]
  },
  {
   "cell_type": "code",
   "execution_count": 153,
   "metadata": {},
   "outputs": [
    {
     "name": "stdout",
     "output_type": "stream",
     "text": [
      "T->h->e->/->*->s->k->y->*->i->s->/->/->b->l->u->e\n"
     ]
    }
   ],
   "source": [
    "print(a)"
   ]
  },
  {
   "cell_type": "code",
   "execution_count": 154,
   "metadata": {},
   "outputs": [
    {
     "data": {
      "text/plain": [
       "'The/*sky*is//blue'"
      ]
     },
     "execution_count": 154,
     "metadata": {},
     "output_type": "execute_result"
    }
   ],
   "source": [
    "a.traverse()"
   ]
  },
  {
   "cell_type": "code",
   "execution_count": 155,
   "metadata": {},
   "outputs": [],
   "source": [
    "a.chst()"
   ]
  },
  {
   "cell_type": "code",
   "execution_count": 156,
   "metadata": {},
   "outputs": [
    {
     "data": {
      "text/plain": [
       "'The Sky is Blue'"
      ]
     },
     "execution_count": 156,
     "metadata": {},
     "output_type": "execute_result"
    }
   ],
   "source": [
    "a.traverse()"
   ]
  },
  {
   "cell_type": "code",
   "execution_count": null,
   "metadata": {},
   "outputs": [],
   "source": []
  }
 ],
 "metadata": {
  "kernelspec": {
   "display_name": "Python 3",
   "language": "python",
   "name": "python3"
  },
  "language_info": {
   "codemirror_mode": {
    "name": "ipython",
    "version": 3
   },
   "file_extension": ".py",
   "mimetype": "text/x-python",
   "name": "python",
   "nbconvert_exporter": "python",
   "pygments_lexer": "ipython3",
   "version": "3.11.5"
  }
 },
 "nbformat": 4,
 "nbformat_minor": 2
}
