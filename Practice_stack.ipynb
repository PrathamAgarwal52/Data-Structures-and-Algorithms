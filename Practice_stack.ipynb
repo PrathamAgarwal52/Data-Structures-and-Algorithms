{
 "cells": [
  {
   "cell_type": "code",
   "execution_count": 370,
   "metadata": {},
   "outputs": [],
   "source": [
    "class node:\n",
    "    def __init__(self,value):\n",
    "        self.data = value\n",
    "        self.next = None"
   ]
  },
  {
   "cell_type": "code",
   "execution_count": 371,
   "metadata": {},
   "outputs": [],
   "source": [
    "class stack:\n",
    "    def __init__(self):\n",
    "        self.top = None\n",
    "        self.n  = 0\n",
    "    def isempty(self):\n",
    "        return self.top == None\n",
    "    \n",
    "    def push(self,value):\n",
    "        new_node = node(value)\n",
    "        new_node.next = self.top\n",
    "        self.top = new_node\n",
    "        self.n = self.n + 1\n",
    "    \n",
    "    def traverse(self):\n",
    "        if(self.top == None):\n",
    "            return 'StackEmpty'\n",
    "        \n",
    "        temp = self.top\n",
    "        while temp != None:\n",
    "            print(temp.data)\n",
    "            temp = temp.next\n",
    "        \n",
    "    def peek(self):\n",
    "        if(self.top == None):\n",
    "            return 'StackEmpty'\n",
    "        else:\n",
    "            return self.top.data\n",
    "\n",
    "    def pop(self):\n",
    "        if(self.top == None):\n",
    "            return 'StackEmpty'\n",
    "        else:\n",
    "            a = self.top.data\n",
    "            self.top = self.top.next\n",
    "            self.n = self.n - 1\n",
    "            return a\n",
    "\n",
    "    def size(self):\n",
    "        return self.n"
   ]
  },
  {
   "cell_type": "markdown",
   "metadata": {},
   "source": [
    "# Question 1"
   ]
  },
  {
   "cell_type": "code",
   "execution_count": 372,
   "metadata": {},
   "outputs": [],
   "source": [
    "def string_reversal(str):\n",
    "    a = stack()\n",
    "\n",
    "    for i in str:\n",
    "        a.push(i)\n",
    "\n",
    "    res = ''\n",
    "\n",
    "    while( not a.isempty()):\n",
    "        res = res + a.pop()\n",
    "    return res"
   ]
  },
  {
   "cell_type": "code",
   "execution_count": 373,
   "metadata": {},
   "outputs": [
    {
     "data": {
      "text/plain": [
       "'mahtarp'"
      ]
     },
     "execution_count": 373,
     "metadata": {},
     "output_type": "execute_result"
    }
   ],
   "source": [
    "string_reversal('pratham')"
   ]
  },
  {
   "cell_type": "code",
   "execution_count": 374,
   "metadata": {},
   "outputs": [
    {
     "data": {
      "text/plain": [
       "'ihskas'"
      ]
     },
     "execution_count": 374,
     "metadata": {},
     "output_type": "execute_result"
    }
   ],
   "source": [
    "string_reversal('sakshi')"
   ]
  },
  {
   "cell_type": "markdown",
   "metadata": {},
   "source": [
    "# Question 2"
   ]
  },
  {
   "cell_type": "code",
   "execution_count": 375,
   "metadata": {},
   "outputs": [],
   "source": [
    "def text_editor(text,operations):\n",
    "    u = stack()\n",
    "    for i in text:\n",
    "        u.push(i)\n",
    "    r = stack()\n",
    "    for j in operations:\n",
    "        if (j=='u'):\n",
    "            b = u.pop()\n",
    "            r.push(b)\n",
    "        if(j=='r'):\n",
    "            c = r.pop()\n",
    "            u.push(c)\n",
    "    res = ''\n",
    "    for k in range(u.size()):\n",
    "        res =  u.pop() + res\n",
    "    \n",
    "    return res"
   ]
  },
  {
   "cell_type": "code",
   "execution_count": 376,
   "metadata": {},
   "outputs": [
    {
     "data": {
      "text/plain": [
       "'hel'"
      ]
     },
     "execution_count": 376,
     "metadata": {},
     "output_type": "execute_result"
    }
   ],
   "source": [
    "text_editor('hello','uuur')"
   ]
  },
  {
   "cell_type": "markdown",
   "metadata": {},
   "source": [
    "# Question 4 "
   ]
  },
  {
   "cell_type": "code",
   "execution_count": 377,
   "metadata": {},
   "outputs": [],
   "source": [
    "Matrix = [\n",
    "    [0,0,1,1],\n",
    "    [1,0,1,0],\n",
    "    [0,0,0,1],\n",
    "    [1,1,1,0]\n",
    "]"
   ]
  },
  {
   "cell_type": "code",
   "execution_count": 378,
   "metadata": {},
   "outputs": [],
   "source": [
    "def celebrity_check(L):\n",
    "    s = stack()\n",
    "    for i in range(len(L)):\n",
    "        s.push(i)\n",
    "   \n",
    "    \n",
    "    while s.size() >= 2:\n",
    "        d = s.pop()\n",
    "        c = s.pop()\n",
    "\n",
    "        if L[d][c] == 0:\n",
    "            s.push(d)\n",
    "            \n",
    "        else:\n",
    "            s.push(c)\n",
    "    a = s.pop()   \n",
    "       \n",
    "    #check both rules\n",
    "    for j in range(len(L)):\n",
    "        if i != a:\n",
    "            if L[i][a] == 0 or L[a][i] == 1 :\n",
    "                print('no one is celebrity')\n",
    "                return\n",
    "            \n",
    "    print('The celebrity is:',a)\n",
    "                \n",
    "\n",
    "\n",
    "\n"
   ]
  },
  {
   "cell_type": "code",
   "execution_count": 379,
   "metadata": {},
   "outputs": [
    {
     "name": "stdout",
     "output_type": "stream",
     "text": [
      "no one is celebrity\n"
     ]
    }
   ],
   "source": [
    "celebrity_check(Matrix)"
   ]
  },
  {
   "cell_type": "markdown",
   "metadata": {},
   "source": [
    "# Question 3"
   ]
  },
  {
   "cell_type": "code",
   "execution_count": 380,
   "metadata": {},
   "outputs": [],
   "source": [
    "S = '[{(a+b)+(b+c)}]'"
   ]
  },
  {
   "cell_type": "code",
   "execution_count": 381,
   "metadata": {},
   "outputs": [],
   "source": [
    "def check_parenthesis(S):\n",
    "    k = stack()\n",
    "    for i in S:\n",
    "        \n",
    "        if i =='[' or i =='{' or i == '(':\n",
    "            k.push(i)\n",
    "        \n",
    "        if i ==']' or i =='}' or i == ')':\n",
    "            if (k.peek() == '[' and i == ']') or (k.peek() == '{' and i == '}')or (k.peek() == '(' and i == ')')and k.size() != 0:\n",
    "                k.pop()\n",
    "    \n",
    "    if k.size() == 0:\n",
    "        print('paranthesis are balanced')\n",
    "        return\n",
    "    \n",
    "    print('parenthesis are not balanced')\n"
   ]
  },
  {
   "cell_type": "code",
   "execution_count": 382,
   "metadata": {},
   "outputs": [
    {
     "name": "stdout",
     "output_type": "stream",
     "text": [
      "paranthesis are balanced\n"
     ]
    }
   ],
   "source": [
    "check_parenthesis(S)"
   ]
  },
  {
   "cell_type": "code",
   "execution_count": null,
   "metadata": {},
   "outputs": [],
   "source": []
  }
 ],
 "metadata": {
  "kernelspec": {
   "display_name": "Python 3",
   "language": "python",
   "name": "python3"
  },
  "language_info": {
   "codemirror_mode": {
    "name": "ipython",
    "version": 3
   },
   "file_extension": ".py",
   "mimetype": "text/x-python",
   "name": "python",
   "nbconvert_exporter": "python",
   "pygments_lexer": "ipython3",
   "version": "3.11.5"
  }
 },
 "nbformat": 4,
 "nbformat_minor": 2
}
