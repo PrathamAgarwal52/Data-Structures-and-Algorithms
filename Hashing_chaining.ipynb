{
 "cells": [
  {
   "cell_type": "code",
   "execution_count": 1,
   "metadata": {},
   "outputs": [],
   "source": [
    "class node:\n",
    "    def __init__(self,key,value):\n",
    "        self.key = key\n",
    "        self.value = value\n",
    "        self.next = None\n"
   ]
  },
  {
   "cell_type": "code",
   "execution_count": 2,
   "metadata": {},
   "outputs": [],
   "source": [
    "class LL:\n",
    "\n",
    "  def __init__(self):\n",
    "    self.head = None\n",
    "\n",
    "  def add(self, key, value):\n",
    "\n",
    "    new_node = node(key, value)\n",
    "\n",
    "    if self.head == None:\n",
    "      self.head = new_node\n",
    "    else:\n",
    "\n",
    "      temp = self.head\n",
    "\n",
    "      while temp.next != None:\n",
    "        temp = temp.next\n",
    "\n",
    "      temp.next = new_node\n",
    "\n",
    "  def delete_head(self):\n",
    "\n",
    "    if self.head == None:\n",
    "      return \"Empty\"\n",
    "    else:\n",
    "      self.head = self.head.next\n",
    "\n",
    "  def remove(self, key):\n",
    "    if self.head.key == key:\n",
    "      self.delete_head()\n",
    "      return \n",
    "\n",
    "    if self.head == None:\n",
    "      return \"Empty\"\n",
    "    else:\n",
    "\n",
    "      temp = self.head\n",
    "\n",
    "      while temp.next != None:\n",
    "        if temp.next.key == key:\n",
    "          break\n",
    "        temp = temp.next\n",
    "\n",
    "      if temp.next == None:\n",
    "        return \"Not Found\"\n",
    "      else:\n",
    "        temp.next = temp.next.next\n",
    "        \n",
    "\n",
    "  def traverse(self):\n",
    "\n",
    "    temp = self.head\n",
    "\n",
    "    while temp != None:\n",
    "\n",
    "      print(temp.key,\"-->\",temp.value,\" \", end=\" \")\n",
    "      temp = temp.next\n",
    "\n",
    "  def size(self):\n",
    "\n",
    "    temp = self.head\n",
    "    counter = 0\n",
    "\n",
    "    while temp != None:\n",
    "\n",
    "      counter += 1\n",
    "      temp = temp.next\n",
    "\n",
    "    return counter\n",
    "\n",
    "  def search(self,key):\n",
    "\n",
    "    temp = self.head\n",
    "    pos = 0\n",
    "\n",
    "    while temp != None:\n",
    "\n",
    "      if temp.key == key:\n",
    "        return pos\n",
    "\n",
    "      temp = temp.next\n",
    "      pos += 1\n",
    "\n",
    "    return -1\n",
    "\n",
    "  def get_node_at_index(self,index):\n",
    "\n",
    "    temp = self.head\n",
    "    counter = 0\n",
    "\n",
    "    while temp is not None:\n",
    "\n",
    "      if counter == index:\n",
    "        return temp\n",
    "      temp = temp.next\n",
    "      counter+=1\n"
   ]
  },
  {
   "cell_type": "code",
   "execution_count": 3,
   "metadata": {},
   "outputs": [],
   "source": [
    "class Dictionary:\n",
    "\n",
    "  def __init__(self, capacity):\n",
    "\n",
    "    self.capacity = capacity\n",
    "    self.size = 0\n",
    "    # create array of LL\n",
    "    self.buckets = self.make_array(self.capacity)\n",
    "\n",
    "  def make_array(self,capacity):\n",
    "\n",
    "    L = []\n",
    "    for i in range(capacity):\n",
    "      L.append(LL())\n",
    "    return L\n",
    "\n",
    "  def __setitem__(self,key,value):\n",
    "    self.put(key,value)\n",
    "\n",
    "  def __getitem__(self,key):\n",
    "    return self.get(key)\n",
    "\n",
    "  def __delitem__(self,key):\n",
    "\n",
    "    bucket_index = self.hash_function(key)\n",
    "\n",
    "    self.buckets[bucket_index].remove(key)\n",
    "\n",
    "  def __str__(self):\n",
    "\n",
    "    for i in self.buckets:\n",
    "      i.traverse()\n",
    "\n",
    "    return \"\"\n",
    "\n",
    "  def __len__(self):\n",
    "    return self.size\n",
    "\n",
    "\n",
    "  def get(self,key):\n",
    "\n",
    "    bucket_index = self.hash_function(key)\n",
    "\n",
    "    res = self.buckets[bucket_index].search(key)\n",
    "\n",
    "    if res == -1:\n",
    "      return \"Not Present\"\n",
    "    else:\n",
    "      node = self.buckets[bucket_index].get_node_at_index(res)\n",
    "      return node.value\n",
    "\n",
    "\n",
    "  def put(self, key, value):\n",
    "\n",
    "    bucket_index = self.hash_function(key)\n",
    "\n",
    "    node_index = self.get_node_index(bucket_index, key)\n",
    "\n",
    "    if node_index == -1:\n",
    "      # insert\n",
    "      self.buckets[bucket_index].add(key,value)\n",
    "      self.size+=1\n",
    "\n",
    "      load_factor = self.size/self.capacity\n",
    "      print(load_factor)\n",
    "\n",
    "      if (load_factor >= 2):\n",
    "        self.rehash()\n",
    "    else:\n",
    "      # update\n",
    "      node = self.buckets[bucket_index].get_node_at_index(node_index)\n",
    "      node.value = value\n",
    "\n",
    "  def rehash(self):\n",
    "    self.capacity = self.capacity * 2\n",
    "    old_buckets = self.buckets\n",
    "    self.size = 0\n",
    "    self.buckets = self.make_array(self.capacity)\n",
    "\n",
    "    for i in old_buckets:\n",
    "      for j in range(i.size()):\n",
    "        node = i.get_node_at_index(j)\n",
    "        key_item = node.key\n",
    "        value_item = node.value\n",
    "        self.put(key_item,value_item)\n",
    "\n",
    "\n",
    "\n",
    "  def get_node_index(self,bucket_index, key):\n",
    "\n",
    "    node_index = self.buckets[bucket_index].search(key)\n",
    "\n",
    "    return node_index\n",
    "\n",
    "  def hash_function(self,key):\n",
    "    return abs(hash(key)) % self.capacity"
   ]
  },
  {
   "cell_type": "code",
   "execution_count": 4,
   "metadata": {},
   "outputs": [],
   "source": [
    "D = Dictionary(3)"
   ]
  },
  {
   "cell_type": "code",
   "execution_count": 5,
   "metadata": {},
   "outputs": [
    {
     "data": {
      "text/plain": [
       "<__main__.Dictionary at 0x23f7d17b7d0>"
      ]
     },
     "execution_count": 5,
     "metadata": {},
     "output_type": "execute_result"
    }
   ],
   "source": [
    "D"
   ]
  },
  {
   "cell_type": "code",
   "execution_count": 6,
   "metadata": {},
   "outputs": [
    {
     "name": "stdout",
     "output_type": "stream",
     "text": [
      "0.3333333333333333\n"
     ]
    }
   ],
   "source": [
    "D.put('python', 35)"
   ]
  },
  {
   "cell_type": "code",
   "execution_count": 7,
   "metadata": {},
   "outputs": [
    {
     "name": "stdout",
     "output_type": "stream",
     "text": [
      "0.6666666666666666\n"
     ]
    }
   ],
   "source": [
    "D.put('java',40)"
   ]
  },
  {
   "cell_type": "code",
   "execution_count": 8,
   "metadata": {},
   "outputs": [
    {
     "name": "stdout",
     "output_type": "stream",
     "text": [
      "1.0\n"
     ]
    }
   ],
   "source": [
    "D.put('C',49)"
   ]
  },
  {
   "cell_type": "code",
   "execution_count": 9,
   "metadata": {},
   "outputs": [
    {
     "name": "stdout",
     "output_type": "stream",
     "text": [
      "1.3333333333333333\n"
     ]
    }
   ],
   "source": [
    "D.put('php',60)"
   ]
  },
  {
   "cell_type": "code",
   "execution_count": 10,
   "metadata": {},
   "outputs": [
    {
     "name": "stdout",
     "output_type": "stream",
     "text": [
      "1.6666666666666667\n"
     ]
    }
   ],
   "source": [
    "D.put('php1',65)"
   ]
  },
  {
   "cell_type": "code",
   "execution_count": 11,
   "metadata": {},
   "outputs": [
    {
     "name": "stdout",
     "output_type": "stream",
     "text": [
      "2.0\n",
      "0.16666666666666666\n",
      "0.3333333333333333\n",
      "0.5\n",
      "0.6666666666666666\n",
      "0.8333333333333334\n",
      "1.0\n"
     ]
    }
   ],
   "source": [
    "D.put('php2',90)"
   ]
  },
  {
   "cell_type": "code",
   "execution_count": 12,
   "metadata": {},
   "outputs": [
    {
     "data": {
      "text/plain": [
       "<__main__.Dictionary at 0x23f7d17b7d0>"
      ]
     },
     "execution_count": 12,
     "metadata": {},
     "output_type": "execute_result"
    }
   ],
   "source": [
    "D"
   ]
  },
  {
   "cell_type": "code",
   "execution_count": 13,
   "metadata": {},
   "outputs": [
    {
     "data": {
      "text/plain": [
       "[<__main__.LL at 0x23f7d2c2210>,\n",
       " <__main__.LL at 0x23f7d174990>,\n",
       " <__main__.LL at 0x23f7d174e90>,\n",
       " <__main__.LL at 0x23f7d174150>,\n",
       " <__main__.LL at 0x23f7d175f10>,\n",
       " <__main__.LL at 0x23f7d2e8c90>]"
      ]
     },
     "execution_count": 13,
     "metadata": {},
     "output_type": "execute_result"
    }
   ],
   "source": [
    "D.buckets"
   ]
  },
  {
   "cell_type": "code",
   "execution_count": null,
   "metadata": {},
   "outputs": [],
   "source": []
  }
 ],
 "metadata": {
  "kernelspec": {
   "display_name": "Python 3",
   "language": "python",
   "name": "python3"
  },
  "language_info": {
   "codemirror_mode": {
    "name": "ipython",
    "version": 3
   },
   "file_extension": ".py",
   "mimetype": "text/x-python",
   "name": "python",
   "nbconvert_exporter": "python",
   "pygments_lexer": "ipython3",
   "version": "3.11.5"
  }
 },
 "nbformat": 4,
 "nbformat_minor": 2
}
